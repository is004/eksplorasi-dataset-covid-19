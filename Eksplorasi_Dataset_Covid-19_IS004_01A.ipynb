{
 "cells": [
  {
   "cell_type": "markdown",
   "id": "914b9cb9",
   "metadata": {},
   "source": [
    "# Eksplorasi Covid-19 Dataset\n",
    "\n",
    "Eksplorasi sederhana pada dataset \"Covid-19 Case Surveillance\" (https://www.kaggle.com/arashnic/covid19-case-surveillance-public-use-dataset). Dataset ini berisi kumpulan data pasien individual terdeidentifikasi yang mencakup karakteristik demografis, riwayat paparan, indikator dan hasil keparahan penyakit, data klinis, hasil uji diagnostik laboratorium, dan komorbiditas.\n",
    "\n",
    "Eksplorasi dilakukan menggunakan fungsi-fungsi dasar pandas, matplotlib, dan seaborn, dengan skenario eksplorasi antara lain:\n",
    "* Melihat struktur dataset (head, shape, columns, dtypes, describe, missing entries, duplicate entries)\n",
    "* Operasi kolom (mengubah tipe data, menambah kolom)\n",
    "* Melihat tanggal laporan kasus paling awal dan paling akhir\n",
    "* Menghitung jumlah kasus per bulan, jumlah tiap jenis gender, jumlah tiap jenis etnis, jumlah status individu meninggal\n",
    "* Visualisasi jumlah kasus per bulan, jumlah status individu meninggal per bulan, jumlah status meninggal berdasarkan gender, status pasien dirawat di rumah sakit, dan beberapa visualisasi lainnya\n",
    "\n",
    "Dari eksplorasi ini dapat diketahui beberapa hal menarik, antara lain: kasus yang dilaporkan terbanyak pada kelompok usia tertentu; kasus meninggal terbanyak pada jenis kelamin tertentu; bulan dengan jumlah kasus dan kematian terbanyak; perbandingan pasien yang dirawat di rumah sakit dan yang tidak dirawat di rumah sakit; dan lain-lain.\n",
    "__________________\n",
    "*20-01-2023/2279004*"
   ]
  },
  {
   "cell_type": "markdown",
   "id": "160c95fc",
   "metadata": {},
   "source": [
    "### Load dataset"
   ]
  },
  {
   "cell_type": "code",
   "execution_count": 1,
   "id": "61f29025",
   "metadata": {},
   "outputs": [
    {
     "name": "stderr",
     "output_type": "stream",
     "text": [
      "/tmp/ipykernel_35135/3417396938.py:2: DtypeWarning: Columns (1) have mixed types. Specify dtype option on import or set low_memory=False.\n",
      "  covid_df = pd.read_csv('./COVID-19_Case_Surveillance_Public_Use_Data.csv')\n"
     ]
    }
   ],
   "source": [
    "import pandas as pd\n",
    "covid_df = pd.read_csv('./COVID-19_Case_Surveillance_Public_Use_Data.csv')\n",
    "#Abaikan bila muncul warning: \"DtypeWarning: Columns (1) have mixed types ...\"\n",
    "#Ukuran data cukup besar (>900MB), butuh waktu untuk loading"
   ]
  },
  {
   "cell_type": "markdown",
   "id": "c8877dfa",
   "metadata": {},
   "source": [
    "### Lihat 5 baris pertama"
   ]
  },
  {
   "cell_type": "code",
   "execution_count": 2,
   "id": "86d1f6ba",
   "metadata": {},
   "outputs": [
    {
     "data": {
      "text/html": [
       "<div>\n",
       "<style scoped>\n",
       "    .dataframe tbody tr th:only-of-type {\n",
       "        vertical-align: middle;\n",
       "    }\n",
       "\n",
       "    .dataframe tbody tr th {\n",
       "        vertical-align: top;\n",
       "    }\n",
       "\n",
       "    .dataframe thead th {\n",
       "        text-align: right;\n",
       "    }\n",
       "</style>\n",
       "<table border=\"1\" class=\"dataframe\">\n",
       "  <thead>\n",
       "    <tr style=\"text-align: right;\">\n",
       "      <th></th>\n",
       "      <th>cdc_report_dt</th>\n",
       "      <th>pos_spec_dt</th>\n",
       "      <th>onset_dt</th>\n",
       "      <th>current_status</th>\n",
       "      <th>sex</th>\n",
       "      <th>age_group</th>\n",
       "      <th>Race and ethnicity (combined)</th>\n",
       "      <th>hosp_yn</th>\n",
       "      <th>icu_yn</th>\n",
       "      <th>death_yn</th>\n",
       "      <th>medcond_yn</th>\n",
       "    </tr>\n",
       "  </thead>\n",
       "  <tbody>\n",
       "    <tr>\n",
       "      <th>0</th>\n",
       "      <td>2020/11/10</td>\n",
       "      <td>2020/11/10</td>\n",
       "      <td>NaN</td>\n",
       "      <td>Laboratory-confirmed case</td>\n",
       "      <td>Male</td>\n",
       "      <td>10 - 19 Years</td>\n",
       "      <td>Black, Non-Hispanic</td>\n",
       "      <td>No</td>\n",
       "      <td>Unknown</td>\n",
       "      <td>No</td>\n",
       "      <td>No</td>\n",
       "    </tr>\n",
       "    <tr>\n",
       "      <th>1</th>\n",
       "      <td>2020/11/14</td>\n",
       "      <td>2020/11/10</td>\n",
       "      <td>2020/11/10</td>\n",
       "      <td>Laboratory-confirmed case</td>\n",
       "      <td>Male</td>\n",
       "      <td>10 - 19 Years</td>\n",
       "      <td>Black, Non-Hispanic</td>\n",
       "      <td>No</td>\n",
       "      <td>No</td>\n",
       "      <td>No</td>\n",
       "      <td>No</td>\n",
       "    </tr>\n",
       "    <tr>\n",
       "      <th>2</th>\n",
       "      <td>2020/11/19</td>\n",
       "      <td>2020/11/10</td>\n",
       "      <td>2020/11/09</td>\n",
       "      <td>Laboratory-confirmed case</td>\n",
       "      <td>Male</td>\n",
       "      <td>10 - 19 Years</td>\n",
       "      <td>Black, Non-Hispanic</td>\n",
       "      <td>No</td>\n",
       "      <td>No</td>\n",
       "      <td>No</td>\n",
       "      <td>No</td>\n",
       "    </tr>\n",
       "    <tr>\n",
       "      <th>3</th>\n",
       "      <td>2020/11/14</td>\n",
       "      <td>2020/11/10</td>\n",
       "      <td>NaN</td>\n",
       "      <td>Laboratory-confirmed case</td>\n",
       "      <td>Male</td>\n",
       "      <td>10 - 19 Years</td>\n",
       "      <td>Black, Non-Hispanic</td>\n",
       "      <td>Missing</td>\n",
       "      <td>Missing</td>\n",
       "      <td>No</td>\n",
       "      <td>Missing</td>\n",
       "    </tr>\n",
       "    <tr>\n",
       "      <th>4</th>\n",
       "      <td>2020/11/13</td>\n",
       "      <td>2020/11/10</td>\n",
       "      <td>2020/11/10</td>\n",
       "      <td>Laboratory-confirmed case</td>\n",
       "      <td>Male</td>\n",
       "      <td>10 - 19 Years</td>\n",
       "      <td>Black, Non-Hispanic</td>\n",
       "      <td>No</td>\n",
       "      <td>No</td>\n",
       "      <td>No</td>\n",
       "      <td>Yes</td>\n",
       "    </tr>\n",
       "  </tbody>\n",
       "</table>\n",
       "</div>"
      ],
      "text/plain": [
       "  cdc_report_dt pos_spec_dt    onset_dt             current_status   sex  \\\n",
       "0    2020/11/10  2020/11/10         NaN  Laboratory-confirmed case  Male   \n",
       "1    2020/11/14  2020/11/10  2020/11/10  Laboratory-confirmed case  Male   \n",
       "2    2020/11/19  2020/11/10  2020/11/09  Laboratory-confirmed case  Male   \n",
       "3    2020/11/14  2020/11/10         NaN  Laboratory-confirmed case  Male   \n",
       "4    2020/11/13  2020/11/10  2020/11/10  Laboratory-confirmed case  Male   \n",
       "\n",
       "       age_group Race and ethnicity (combined)  hosp_yn   icu_yn death_yn  \\\n",
       "0  10 - 19 Years           Black, Non-Hispanic       No  Unknown       No   \n",
       "1  10 - 19 Years           Black, Non-Hispanic       No       No       No   \n",
       "2  10 - 19 Years           Black, Non-Hispanic       No       No       No   \n",
       "3  10 - 19 Years           Black, Non-Hispanic  Missing  Missing       No   \n",
       "4  10 - 19 Years           Black, Non-Hispanic       No       No       No   \n",
       "\n",
       "  medcond_yn  \n",
       "0         No  \n",
       "1         No  \n",
       "2         No  \n",
       "3    Missing  \n",
       "4        Yes  "
      ]
     },
     "execution_count": 2,
     "metadata": {},
     "output_type": "execute_result"
    }
   ],
   "source": [
    "covid_df.head()"
   ]
  },
  {
   "cell_type": "markdown",
   "id": "0922ada3",
   "metadata": {},
   "source": [
    "### Lihat 10 baris terakhir"
   ]
  },
  {
   "cell_type": "code",
   "execution_count": 3,
   "id": "15451b29",
   "metadata": {},
   "outputs": [
    {
     "data": {
      "text/html": [
       "<div>\n",
       "<style scoped>\n",
       "    .dataframe tbody tr th:only-of-type {\n",
       "        vertical-align: middle;\n",
       "    }\n",
       "\n",
       "    .dataframe tbody tr th {\n",
       "        vertical-align: top;\n",
       "    }\n",
       "\n",
       "    .dataframe thead th {\n",
       "        text-align: right;\n",
       "    }\n",
       "</style>\n",
       "<table border=\"1\" class=\"dataframe\">\n",
       "  <thead>\n",
       "    <tr style=\"text-align: right;\">\n",
       "      <th></th>\n",
       "      <th>cdc_report_dt</th>\n",
       "      <th>pos_spec_dt</th>\n",
       "      <th>onset_dt</th>\n",
       "      <th>current_status</th>\n",
       "      <th>sex</th>\n",
       "      <th>age_group</th>\n",
       "      <th>Race and ethnicity (combined)</th>\n",
       "      <th>hosp_yn</th>\n",
       "      <th>icu_yn</th>\n",
       "      <th>death_yn</th>\n",
       "      <th>medcond_yn</th>\n",
       "    </tr>\n",
       "  </thead>\n",
       "  <tbody>\n",
       "    <tr>\n",
       "      <th>8405069</th>\n",
       "      <td>2020/04/14</td>\n",
       "      <td>NaN</td>\n",
       "      <td>NaN</td>\n",
       "      <td>Laboratory-confirmed case</td>\n",
       "      <td>Missing</td>\n",
       "      <td>30 - 39 Years</td>\n",
       "      <td>Unknown</td>\n",
       "      <td>Missing</td>\n",
       "      <td>Missing</td>\n",
       "      <td>Missing</td>\n",
       "      <td>Missing</td>\n",
       "    </tr>\n",
       "    <tr>\n",
       "      <th>8405070</th>\n",
       "      <td>2020/07/18</td>\n",
       "      <td>NaN</td>\n",
       "      <td>2020/07/18</td>\n",
       "      <td>Laboratory-confirmed case</td>\n",
       "      <td>Missing</td>\n",
       "      <td>30 - 39 Years</td>\n",
       "      <td>Unknown</td>\n",
       "      <td>No</td>\n",
       "      <td>Missing</td>\n",
       "      <td>No</td>\n",
       "      <td>Missing</td>\n",
       "    </tr>\n",
       "    <tr>\n",
       "      <th>8405071</th>\n",
       "      <td>2020/08/14</td>\n",
       "      <td>NaN</td>\n",
       "      <td>2020/07/12</td>\n",
       "      <td>Probable Case</td>\n",
       "      <td>Missing</td>\n",
       "      <td>30 - 39 Years</td>\n",
       "      <td>Unknown</td>\n",
       "      <td>Unknown</td>\n",
       "      <td>No</td>\n",
       "      <td>No</td>\n",
       "      <td>Missing</td>\n",
       "    </tr>\n",
       "    <tr>\n",
       "      <th>8405072</th>\n",
       "      <td>2020/11/06</td>\n",
       "      <td>NaN</td>\n",
       "      <td>NaN</td>\n",
       "      <td>Laboratory-confirmed case</td>\n",
       "      <td>Missing</td>\n",
       "      <td>30 - 39 Years</td>\n",
       "      <td>Unknown</td>\n",
       "      <td>Missing</td>\n",
       "      <td>Missing</td>\n",
       "      <td>Missing</td>\n",
       "      <td>Missing</td>\n",
       "    </tr>\n",
       "    <tr>\n",
       "      <th>8405073</th>\n",
       "      <td>2020/11/01</td>\n",
       "      <td>NaN</td>\n",
       "      <td>NaN</td>\n",
       "      <td>Probable Case</td>\n",
       "      <td>Missing</td>\n",
       "      <td>30 - 39 Years</td>\n",
       "      <td>Unknown</td>\n",
       "      <td>Unknown</td>\n",
       "      <td>Unknown</td>\n",
       "      <td>No</td>\n",
       "      <td>Missing</td>\n",
       "    </tr>\n",
       "    <tr>\n",
       "      <th>8405074</th>\n",
       "      <td>2020/10/22</td>\n",
       "      <td>NaN</td>\n",
       "      <td>NaN</td>\n",
       "      <td>Probable Case</td>\n",
       "      <td>Missing</td>\n",
       "      <td>30 - 39 Years</td>\n",
       "      <td>Unknown</td>\n",
       "      <td>No</td>\n",
       "      <td>Unknown</td>\n",
       "      <td>No</td>\n",
       "      <td>Missing</td>\n",
       "    </tr>\n",
       "    <tr>\n",
       "      <th>8405075</th>\n",
       "      <td>2020/10/25</td>\n",
       "      <td>NaN</td>\n",
       "      <td>NaN</td>\n",
       "      <td>Laboratory-confirmed case</td>\n",
       "      <td>Missing</td>\n",
       "      <td>30 - 39 Years</td>\n",
       "      <td>Unknown</td>\n",
       "      <td>Missing</td>\n",
       "      <td>Missing</td>\n",
       "      <td>Missing</td>\n",
       "      <td>Missing</td>\n",
       "    </tr>\n",
       "    <tr>\n",
       "      <th>8405076</th>\n",
       "      <td>2020/07/18</td>\n",
       "      <td>NaN</td>\n",
       "      <td>NaN</td>\n",
       "      <td>Laboratory-confirmed case</td>\n",
       "      <td>Missing</td>\n",
       "      <td>30 - 39 Years</td>\n",
       "      <td>Unknown</td>\n",
       "      <td>Missing</td>\n",
       "      <td>Missing</td>\n",
       "      <td>Missing</td>\n",
       "      <td>Missing</td>\n",
       "    </tr>\n",
       "    <tr>\n",
       "      <th>8405077</th>\n",
       "      <td>2020/11/19</td>\n",
       "      <td>NaN</td>\n",
       "      <td>NaN</td>\n",
       "      <td>Laboratory-confirmed case</td>\n",
       "      <td>Missing</td>\n",
       "      <td>30 - 39 Years</td>\n",
       "      <td>Unknown</td>\n",
       "      <td>Missing</td>\n",
       "      <td>Missing</td>\n",
       "      <td>Missing</td>\n",
       "      <td>Missing</td>\n",
       "    </tr>\n",
       "    <tr>\n",
       "      <th>8405078</th>\n",
       "      <td>2020/11/03</td>\n",
       "      <td>NaN</td>\n",
       "      <td>NaN</td>\n",
       "      <td>Laboratory-confirmed case</td>\n",
       "      <td>Missing</td>\n",
       "      <td>30 - 39 Years</td>\n",
       "      <td>Unknown</td>\n",
       "      <td>No</td>\n",
       "      <td>Unknown</td>\n",
       "      <td>No</td>\n",
       "      <td>Missing</td>\n",
       "    </tr>\n",
       "  </tbody>\n",
       "</table>\n",
       "</div>"
      ],
      "text/plain": [
       "        cdc_report_dt pos_spec_dt    onset_dt             current_status  \\\n",
       "8405069    2020/04/14         NaN         NaN  Laboratory-confirmed case   \n",
       "8405070    2020/07/18         NaN  2020/07/18  Laboratory-confirmed case   \n",
       "8405071    2020/08/14         NaN  2020/07/12              Probable Case   \n",
       "8405072    2020/11/06         NaN         NaN  Laboratory-confirmed case   \n",
       "8405073    2020/11/01         NaN         NaN              Probable Case   \n",
       "8405074    2020/10/22         NaN         NaN              Probable Case   \n",
       "8405075    2020/10/25         NaN         NaN  Laboratory-confirmed case   \n",
       "8405076    2020/07/18         NaN         NaN  Laboratory-confirmed case   \n",
       "8405077    2020/11/19         NaN         NaN  Laboratory-confirmed case   \n",
       "8405078    2020/11/03         NaN         NaN  Laboratory-confirmed case   \n",
       "\n",
       "             sex      age_group Race and ethnicity (combined)  hosp_yn  \\\n",
       "8405069  Missing  30 - 39 Years                       Unknown  Missing   \n",
       "8405070  Missing  30 - 39 Years                       Unknown       No   \n",
       "8405071  Missing  30 - 39 Years                       Unknown  Unknown   \n",
       "8405072  Missing  30 - 39 Years                       Unknown  Missing   \n",
       "8405073  Missing  30 - 39 Years                       Unknown  Unknown   \n",
       "8405074  Missing  30 - 39 Years                       Unknown       No   \n",
       "8405075  Missing  30 - 39 Years                       Unknown  Missing   \n",
       "8405076  Missing  30 - 39 Years                       Unknown  Missing   \n",
       "8405077  Missing  30 - 39 Years                       Unknown  Missing   \n",
       "8405078  Missing  30 - 39 Years                       Unknown       No   \n",
       "\n",
       "          icu_yn death_yn medcond_yn  \n",
       "8405069  Missing  Missing    Missing  \n",
       "8405070  Missing       No    Missing  \n",
       "8405071       No       No    Missing  \n",
       "8405072  Missing  Missing    Missing  \n",
       "8405073  Unknown       No    Missing  \n",
       "8405074  Unknown       No    Missing  \n",
       "8405075  Missing  Missing    Missing  \n",
       "8405076  Missing  Missing    Missing  \n",
       "8405077  Missing  Missing    Missing  \n",
       "8405078  Unknown       No    Missing  "
      ]
     },
     "execution_count": 3,
     "metadata": {},
     "output_type": "execute_result"
    }
   ],
   "source": [
    "covid_df.iloc[-10:]"
   ]
  },
  {
   "cell_type": "markdown",
   "id": "f86e57e5",
   "metadata": {},
   "source": [
    "### Dimensi baris dan kolom"
   ]
  },
  {
   "cell_type": "code",
   "execution_count": 4,
   "id": "e925faaf",
   "metadata": {},
   "outputs": [
    {
     "data": {
      "text/plain": [
       "(8405079, 11)"
      ]
     },
     "execution_count": 4,
     "metadata": {},
     "output_type": "execute_result"
    }
   ],
   "source": [
    "covid_df.shape"
   ]
  },
  {
   "cell_type": "markdown",
   "id": "b7231096",
   "metadata": {},
   "source": [
    "### Daftar kolom"
   ]
  },
  {
   "cell_type": "code",
   "execution_count": 5,
   "id": "6e9ebee3",
   "metadata": {},
   "outputs": [
    {
     "data": {
      "text/plain": [
       "Index(['cdc_report_dt', 'pos_spec_dt', 'onset_dt', 'current_status', 'sex',\n",
       "       'age_group', 'Race and ethnicity (combined)', 'hosp_yn', 'icu_yn',\n",
       "       'death_yn', 'medcond_yn'],\n",
       "      dtype='object')"
      ]
     },
     "execution_count": 5,
     "metadata": {},
     "output_type": "execute_result"
    }
   ],
   "source": [
    "covid_df.columns"
   ]
  },
  {
   "cell_type": "markdown",
   "id": "60acb87f",
   "metadata": {},
   "source": [
    "### Data types kolom"
   ]
  },
  {
   "cell_type": "code",
   "execution_count": 6,
   "id": "063333ba",
   "metadata": {},
   "outputs": [
    {
     "data": {
      "text/plain": [
       "cdc_report_dt                    datetime64[ns]\n",
       "pos_spec_dt                              object\n",
       "onset_dt                                 object\n",
       "current_status                           object\n",
       "sex                                      object\n",
       "age_group                                object\n",
       "Race and ethnicity (combined)            object\n",
       "hosp_yn                                  object\n",
       "icu_yn                                   object\n",
       "death_yn                                 object\n",
       "medcond_yn                               object\n",
       "month_name                               object\n",
       "dtype: object"
      ]
     },
     "execution_count": 6,
     "metadata": {},
     "output_type": "execute_result"
    }
   ],
   "source": [
    "covid_df.dtypes"
   ]
  },
  {
   "cell_type": "markdown",
   "id": "82f0d3a9",
   "metadata": {},
   "source": [
    "### Informasi basic"
   ]
  },
  {
   "cell_type": "code",
   "execution_count": 7,
   "id": "ea8b8160",
   "metadata": {},
   "outputs": [
    {
     "name": "stdout",
     "output_type": "stream",
     "text": [
      "<class 'pandas.core.frame.DataFrame'>\n",
      "RangeIndex: 8405079 entries, 0 to 8405078\n",
      "Data columns (total 12 columns):\n",
      " #   Column                         Dtype         \n",
      "---  ------                         -----         \n",
      " 0   cdc_report_dt                  datetime64[ns]\n",
      " 1   pos_spec_dt                    object        \n",
      " 2   onset_dt                       object        \n",
      " 3   current_status                 object        \n",
      " 4   sex                            object        \n",
      " 5   age_group                      object        \n",
      " 6   Race and ethnicity (combined)  object        \n",
      " 7   hosp_yn                        object        \n",
      " 8   icu_yn                         object        \n",
      " 9   death_yn                       object        \n",
      " 10  medcond_yn                     object        \n",
      " 11  month_name                     object        \n",
      "dtypes: datetime64[ns](1), object(11)\n",
      "memory usage: 769.5+ MB\n"
     ]
    }
   ],
   "source": [
    "covid_df.info()"
   ]
  },
  {
   "cell_type": "code",
   "execution_count": 8,
   "id": "7af64239",
   "metadata": {},
   "outputs": [
    {
     "data": {
      "text/html": [
       "<div>\n",
       "<style scoped>\n",
       "    .dataframe tbody tr th:only-of-type {\n",
       "        vertical-align: middle;\n",
       "    }\n",
       "\n",
       "    .dataframe tbody tr th {\n",
       "        vertical-align: top;\n",
       "    }\n",
       "\n",
       "    .dataframe thead th {\n",
       "        text-align: right;\n",
       "    }\n",
       "</style>\n",
       "<table border=\"1\" class=\"dataframe\">\n",
       "  <thead>\n",
       "    <tr style=\"text-align: right;\">\n",
       "      <th></th>\n",
       "      <th>cdc_report_dt</th>\n",
       "      <th>pos_spec_dt</th>\n",
       "      <th>onset_dt</th>\n",
       "      <th>current_status</th>\n",
       "      <th>sex</th>\n",
       "      <th>age_group</th>\n",
       "      <th>Race and ethnicity (combined)</th>\n",
       "      <th>hosp_yn</th>\n",
       "      <th>icu_yn</th>\n",
       "      <th>death_yn</th>\n",
       "      <th>medcond_yn</th>\n",
       "    </tr>\n",
       "  </thead>\n",
       "  <tbody>\n",
       "    <tr>\n",
       "      <th>count</th>\n",
       "      <td>8405079</td>\n",
       "      <td>2870789</td>\n",
       "      <td>4395957</td>\n",
       "      <td>8405079</td>\n",
       "      <td>8405061</td>\n",
       "      <td>8404990</td>\n",
       "      <td>8405072</td>\n",
       "      <td>8405079</td>\n",
       "      <td>8405079</td>\n",
       "      <td>8405079</td>\n",
       "      <td>8405079</td>\n",
       "    </tr>\n",
       "    <tr>\n",
       "      <th>unique</th>\n",
       "      <td>321</td>\n",
       "      <td>313</td>\n",
       "      <td>338</td>\n",
       "      <td>2</td>\n",
       "      <td>5</td>\n",
       "      <td>10</td>\n",
       "      <td>9</td>\n",
       "      <td>4</td>\n",
       "      <td>4</td>\n",
       "      <td>4</td>\n",
       "      <td>4</td>\n",
       "    </tr>\n",
       "    <tr>\n",
       "      <th>top</th>\n",
       "      <td>2020/06/24</td>\n",
       "      <td>2020/11/09</td>\n",
       "      <td>2020/11/02</td>\n",
       "      <td>Laboratory-confirmed case</td>\n",
       "      <td>Female</td>\n",
       "      <td>20 - 29 Years</td>\n",
       "      <td>Unknown</td>\n",
       "      <td>No</td>\n",
       "      <td>Missing</td>\n",
       "      <td>No</td>\n",
       "      <td>Missing</td>\n",
       "    </tr>\n",
       "    <tr>\n",
       "      <th>freq</th>\n",
       "      <td>155857</td>\n",
       "      <td>50595</td>\n",
       "      <td>49527</td>\n",
       "      <td>7910118</td>\n",
       "      <td>4340898</td>\n",
       "      <td>1635264</td>\n",
       "      <td>2781176</td>\n",
       "      <td>3502556</td>\n",
       "      <td>6178281</td>\n",
       "      <td>3690813</td>\n",
       "      <td>6063390</td>\n",
       "    </tr>\n",
       "  </tbody>\n",
       "</table>\n",
       "</div>"
      ],
      "text/plain": [
       "       cdc_report_dt pos_spec_dt    onset_dt             current_status  \\\n",
       "count        8405079     2870789     4395957                    8405079   \n",
       "unique           321         313         338                          2   \n",
       "top       2020/06/24  2020/11/09  2020/11/02  Laboratory-confirmed case   \n",
       "freq          155857       50595       49527                    7910118   \n",
       "\n",
       "            sex      age_group Race and ethnicity (combined)  hosp_yn  \\\n",
       "count   8405061        8404990                       8405072  8405079   \n",
       "unique        5             10                             9        4   \n",
       "top      Female  20 - 29 Years                       Unknown       No   \n",
       "freq    4340898        1635264                       2781176  3502556   \n",
       "\n",
       "         icu_yn death_yn medcond_yn  \n",
       "count   8405079  8405079    8405079  \n",
       "unique        4        4          4  \n",
       "top     Missing       No    Missing  \n",
       "freq    6178281  3690813    6063390  "
      ]
     },
     "execution_count": 8,
     "metadata": {},
     "output_type": "execute_result"
    }
   ],
   "source": [
    "covid_df.describe()"
   ]
  },
  {
   "cell_type": "markdown",
   "id": "8d212ec2",
   "metadata": {},
   "source": [
    "### Cek missing values"
   ]
  },
  {
   "cell_type": "code",
   "execution_count": 9,
   "id": "b97560d4",
   "metadata": {},
   "outputs": [
    {
     "data": {
      "text/plain": [
       "True"
      ]
     },
     "execution_count": 9,
     "metadata": {},
     "output_type": "execute_result"
    }
   ],
   "source": [
    "covid_df.isna().values.any()"
   ]
  },
  {
   "cell_type": "markdown",
   "id": "8cd70d46",
   "metadata": {},
   "source": [
    "### Lihat kolom yang mengandung missing values"
   ]
  },
  {
   "cell_type": "code",
   "execution_count": 10,
   "id": "e506df0a",
   "metadata": {},
   "outputs": [
    {
     "data": {
      "text/plain": [
       "pos_spec_dt                      5534290\n",
       "onset_dt                         4009122\n",
       "sex                                   18\n",
       "age_group                             89\n",
       "Race and ethnicity (combined)          7\n",
       "dtype: int64"
      ]
     },
     "execution_count": 10,
     "metadata": {},
     "output_type": "execute_result"
    }
   ],
   "source": [
    "na_cols = (covid_df.isna().sum())\n",
    "na_cols[na_cols > 0]"
   ]
  },
  {
   "cell_type": "markdown",
   "id": "96a5e6b5",
   "metadata": {},
   "source": [
    "### Jumlah missing values"
   ]
  },
  {
   "cell_type": "code",
   "execution_count": 11,
   "id": "eff0519d",
   "metadata": {},
   "outputs": [
    {
     "data": {
      "text/plain": [
       "9543526"
      ]
     },
     "execution_count": 11,
     "metadata": {},
     "output_type": "execute_result"
    }
   ],
   "source": [
    "sum(na_cols[na_cols > 0])"
   ]
  },
  {
   "cell_type": "markdown",
   "id": "01405cfb",
   "metadata": {},
   "source": [
    "### Cek duplicate entries"
   ]
  },
  {
   "cell_type": "code",
   "execution_count": 12,
   "id": "bbb0a219",
   "metadata": {},
   "outputs": [
    {
     "data": {
      "text/plain": [
       "True     5140089\n",
       "False    3264990\n",
       "dtype: int64"
      ]
     },
     "execution_count": 12,
     "metadata": {},
     "output_type": "execute_result"
    }
   ],
   "source": [
    "covid_df.duplicated().value_counts()"
   ]
  },
  {
   "cell_type": "markdown",
   "id": "531a99d0",
   "metadata": {},
   "source": [
    "### Lihat duplicate entries (sekunder)"
   ]
  },
  {
   "cell_type": "code",
   "execution_count": 13,
   "id": "27da049b",
   "metadata": {},
   "outputs": [
    {
     "data": {
      "text/html": [
       "<div>\n",
       "<style scoped>\n",
       "    .dataframe tbody tr th:only-of-type {\n",
       "        vertical-align: middle;\n",
       "    }\n",
       "\n",
       "    .dataframe tbody tr th {\n",
       "        vertical-align: top;\n",
       "    }\n",
       "\n",
       "    .dataframe thead th {\n",
       "        text-align: right;\n",
       "    }\n",
       "</style>\n",
       "<table border=\"1\" class=\"dataframe\">\n",
       "  <thead>\n",
       "    <tr style=\"text-align: right;\">\n",
       "      <th></th>\n",
       "      <th>cdc_report_dt</th>\n",
       "      <th>pos_spec_dt</th>\n",
       "      <th>onset_dt</th>\n",
       "      <th>current_status</th>\n",
       "      <th>sex</th>\n",
       "      <th>age_group</th>\n",
       "      <th>Race and ethnicity (combined)</th>\n",
       "      <th>hosp_yn</th>\n",
       "      <th>icu_yn</th>\n",
       "      <th>death_yn</th>\n",
       "      <th>medcond_yn</th>\n",
       "    </tr>\n",
       "  </thead>\n",
       "  <tbody>\n",
       "    <tr>\n",
       "      <th>10</th>\n",
       "      <td>2020/11/10</td>\n",
       "      <td>2020/11/10</td>\n",
       "      <td>NaN</td>\n",
       "      <td>Laboratory-confirmed case</td>\n",
       "      <td>Male</td>\n",
       "      <td>10 - 19 Years</td>\n",
       "      <td>Black, Non-Hispanic</td>\n",
       "      <td>Missing</td>\n",
       "      <td>Missing</td>\n",
       "      <td>Missing</td>\n",
       "      <td>Missing</td>\n",
       "    </tr>\n",
       "    <tr>\n",
       "      <th>12</th>\n",
       "      <td>2020/11/10</td>\n",
       "      <td>2020/11/10</td>\n",
       "      <td>NaN</td>\n",
       "      <td>Laboratory-confirmed case</td>\n",
       "      <td>Male</td>\n",
       "      <td>10 - 19 Years</td>\n",
       "      <td>Black, Non-Hispanic</td>\n",
       "      <td>Missing</td>\n",
       "      <td>Missing</td>\n",
       "      <td>Missing</td>\n",
       "      <td>Missing</td>\n",
       "    </tr>\n",
       "    <tr>\n",
       "      <th>19</th>\n",
       "      <td>2020/11/17</td>\n",
       "      <td>2020/11/10</td>\n",
       "      <td>NaN</td>\n",
       "      <td>Laboratory-confirmed case</td>\n",
       "      <td>Male</td>\n",
       "      <td>10 - 19 Years</td>\n",
       "      <td>Black, Non-Hispanic</td>\n",
       "      <td>Missing</td>\n",
       "      <td>Missing</td>\n",
       "      <td>Missing</td>\n",
       "      <td>Missing</td>\n",
       "    </tr>\n",
       "    <tr>\n",
       "      <th>22</th>\n",
       "      <td>2020/11/14</td>\n",
       "      <td>2020/11/10</td>\n",
       "      <td>NaN</td>\n",
       "      <td>Laboratory-confirmed case</td>\n",
       "      <td>Male</td>\n",
       "      <td>10 - 19 Years</td>\n",
       "      <td>Black, Non-Hispanic</td>\n",
       "      <td>Missing</td>\n",
       "      <td>Missing</td>\n",
       "      <td>No</td>\n",
       "      <td>Missing</td>\n",
       "    </tr>\n",
       "    <tr>\n",
       "      <th>25</th>\n",
       "      <td>2020/11/10</td>\n",
       "      <td>2020/11/10</td>\n",
       "      <td>NaN</td>\n",
       "      <td>Laboratory-confirmed case</td>\n",
       "      <td>Male</td>\n",
       "      <td>10 - 19 Years</td>\n",
       "      <td>Black, Non-Hispanic</td>\n",
       "      <td>Unknown</td>\n",
       "      <td>Unknown</td>\n",
       "      <td>No</td>\n",
       "      <td>Unknown</td>\n",
       "    </tr>\n",
       "    <tr>\n",
       "      <th>...</th>\n",
       "      <td>...</td>\n",
       "      <td>...</td>\n",
       "      <td>...</td>\n",
       "      <td>...</td>\n",
       "      <td>...</td>\n",
       "      <td>...</td>\n",
       "      <td>...</td>\n",
       "      <td>...</td>\n",
       "      <td>...</td>\n",
       "      <td>...</td>\n",
       "      <td>...</td>\n",
       "    </tr>\n",
       "    <tr>\n",
       "      <th>8405072</th>\n",
       "      <td>2020/11/06</td>\n",
       "      <td>NaN</td>\n",
       "      <td>NaN</td>\n",
       "      <td>Laboratory-confirmed case</td>\n",
       "      <td>Missing</td>\n",
       "      <td>30 - 39 Years</td>\n",
       "      <td>Unknown</td>\n",
       "      <td>Missing</td>\n",
       "      <td>Missing</td>\n",
       "      <td>Missing</td>\n",
       "      <td>Missing</td>\n",
       "    </tr>\n",
       "    <tr>\n",
       "      <th>8405073</th>\n",
       "      <td>2020/11/01</td>\n",
       "      <td>NaN</td>\n",
       "      <td>NaN</td>\n",
       "      <td>Probable Case</td>\n",
       "      <td>Missing</td>\n",
       "      <td>30 - 39 Years</td>\n",
       "      <td>Unknown</td>\n",
       "      <td>Unknown</td>\n",
       "      <td>Unknown</td>\n",
       "      <td>No</td>\n",
       "      <td>Missing</td>\n",
       "    </tr>\n",
       "    <tr>\n",
       "      <th>8405076</th>\n",
       "      <td>2020/07/18</td>\n",
       "      <td>NaN</td>\n",
       "      <td>NaN</td>\n",
       "      <td>Laboratory-confirmed case</td>\n",
       "      <td>Missing</td>\n",
       "      <td>30 - 39 Years</td>\n",
       "      <td>Unknown</td>\n",
       "      <td>Missing</td>\n",
       "      <td>Missing</td>\n",
       "      <td>Missing</td>\n",
       "      <td>Missing</td>\n",
       "    </tr>\n",
       "    <tr>\n",
       "      <th>8405077</th>\n",
       "      <td>2020/11/19</td>\n",
       "      <td>NaN</td>\n",
       "      <td>NaN</td>\n",
       "      <td>Laboratory-confirmed case</td>\n",
       "      <td>Missing</td>\n",
       "      <td>30 - 39 Years</td>\n",
       "      <td>Unknown</td>\n",
       "      <td>Missing</td>\n",
       "      <td>Missing</td>\n",
       "      <td>Missing</td>\n",
       "      <td>Missing</td>\n",
       "    </tr>\n",
       "    <tr>\n",
       "      <th>8405078</th>\n",
       "      <td>2020/11/03</td>\n",
       "      <td>NaN</td>\n",
       "      <td>NaN</td>\n",
       "      <td>Laboratory-confirmed case</td>\n",
       "      <td>Missing</td>\n",
       "      <td>30 - 39 Years</td>\n",
       "      <td>Unknown</td>\n",
       "      <td>No</td>\n",
       "      <td>Unknown</td>\n",
       "      <td>No</td>\n",
       "      <td>Missing</td>\n",
       "    </tr>\n",
       "  </tbody>\n",
       "</table>\n",
       "<p>5140089 rows × 11 columns</p>\n",
       "</div>"
      ],
      "text/plain": [
       "        cdc_report_dt pos_spec_dt onset_dt             current_status  \\\n",
       "10         2020/11/10  2020/11/10      NaN  Laboratory-confirmed case   \n",
       "12         2020/11/10  2020/11/10      NaN  Laboratory-confirmed case   \n",
       "19         2020/11/17  2020/11/10      NaN  Laboratory-confirmed case   \n",
       "22         2020/11/14  2020/11/10      NaN  Laboratory-confirmed case   \n",
       "25         2020/11/10  2020/11/10      NaN  Laboratory-confirmed case   \n",
       "...               ...         ...      ...                        ...   \n",
       "8405072    2020/11/06         NaN      NaN  Laboratory-confirmed case   \n",
       "8405073    2020/11/01         NaN      NaN              Probable Case   \n",
       "8405076    2020/07/18         NaN      NaN  Laboratory-confirmed case   \n",
       "8405077    2020/11/19         NaN      NaN  Laboratory-confirmed case   \n",
       "8405078    2020/11/03         NaN      NaN  Laboratory-confirmed case   \n",
       "\n",
       "             sex      age_group Race and ethnicity (combined)  hosp_yn  \\\n",
       "10          Male  10 - 19 Years           Black, Non-Hispanic  Missing   \n",
       "12          Male  10 - 19 Years           Black, Non-Hispanic  Missing   \n",
       "19          Male  10 - 19 Years           Black, Non-Hispanic  Missing   \n",
       "22          Male  10 - 19 Years           Black, Non-Hispanic  Missing   \n",
       "25          Male  10 - 19 Years           Black, Non-Hispanic  Unknown   \n",
       "...          ...            ...                           ...      ...   \n",
       "8405072  Missing  30 - 39 Years                       Unknown  Missing   \n",
       "8405073  Missing  30 - 39 Years                       Unknown  Unknown   \n",
       "8405076  Missing  30 - 39 Years                       Unknown  Missing   \n",
       "8405077  Missing  30 - 39 Years                       Unknown  Missing   \n",
       "8405078  Missing  30 - 39 Years                       Unknown       No   \n",
       "\n",
       "          icu_yn death_yn medcond_yn  \n",
       "10       Missing  Missing    Missing  \n",
       "12       Missing  Missing    Missing  \n",
       "19       Missing  Missing    Missing  \n",
       "22       Missing       No    Missing  \n",
       "25       Unknown       No    Unknown  \n",
       "...          ...      ...        ...  \n",
       "8405072  Missing  Missing    Missing  \n",
       "8405073  Unknown       No    Missing  \n",
       "8405076  Missing  Missing    Missing  \n",
       "8405077  Missing  Missing    Missing  \n",
       "8405078  Unknown       No    Missing  \n",
       "\n",
       "[5140089 rows x 11 columns]"
      ]
     },
     "execution_count": 13,
     "metadata": {},
     "output_type": "execute_result"
    }
   ],
   "source": [
    "covid_df[covid_df.duplicated()]"
   ]
  },
  {
   "cell_type": "markdown",
   "id": "ff206791",
   "metadata": {},
   "source": [
    "*Asumsi: Banyaknya duplicated entries kemungkinan besar disebabkan proses deidentifikasi yang menghilangkan identifier unik individual.*"
   ]
  },
  {
   "cell_type": "markdown",
   "id": "5c04a998",
   "metadata": {},
   "source": [
    "### Ubah tipe data kolom 'cdc_report_dt' menjadi datetime\n",
    "(agar bisa dilakukan operasi sebagai data waktu)"
   ]
  },
  {
   "cell_type": "code",
   "execution_count": 3,
   "id": "9009e465",
   "metadata": {},
   "outputs": [
    {
     "data": {
      "text/plain": [
       "cdc_report_dt                    datetime64[ns]\n",
       "pos_spec_dt                              object\n",
       "onset_dt                                 object\n",
       "current_status                           object\n",
       "sex                                      object\n",
       "age_group                                object\n",
       "Race and ethnicity (combined)            object\n",
       "hosp_yn                                  object\n",
       "icu_yn                                   object\n",
       "death_yn                                 object\n",
       "medcond_yn                               object\n",
       "dtype: object"
      ]
     },
     "execution_count": 3,
     "metadata": {},
     "output_type": "execute_result"
    }
   ],
   "source": [
    "covid_df['cdc_report_dt'] = pd.to_datetime(covid_df.cdc_report_dt)\n",
    "covid_df.dtypes"
   ]
  },
  {
   "cell_type": "code",
   "execution_count": 15,
   "id": "8ed07ae8",
   "metadata": {},
   "outputs": [
    {
     "data": {
      "text/plain": [
       "0   2020-11-10\n",
       "1   2020-11-14\n",
       "2   2020-11-19\n",
       "3   2020-11-14\n",
       "4   2020-11-13\n",
       "Name: cdc_report_dt, dtype: datetime64[ns]"
      ]
     },
     "execution_count": 15,
     "metadata": {},
     "output_type": "execute_result"
    }
   ],
   "source": [
    "covid_df['cdc_report_dt'].head()"
   ]
  },
  {
   "cell_type": "markdown",
   "id": "eddaf0a2",
   "metadata": {},
   "source": [
    "### Melihat tanggal laporan paling awal"
   ]
  },
  {
   "cell_type": "code",
   "execution_count": 16,
   "id": "d11de482",
   "metadata": {},
   "outputs": [
    {
     "data": {
      "text/plain": [
       "Timestamp('2020-01-01 00:00:00')"
      ]
     },
     "execution_count": 16,
     "metadata": {},
     "output_type": "execute_result"
    }
   ],
   "source": [
    "covid_df['cdc_report_dt'].min()"
   ]
  },
  {
   "cell_type": "markdown",
   "id": "42fb43aa",
   "metadata": {},
   "source": [
    "### Melihat tanggal laporan paling akhir"
   ]
  },
  {
   "cell_type": "code",
   "execution_count": 17,
   "id": "5cff41b2",
   "metadata": {},
   "outputs": [
    {
     "data": {
      "text/plain": [
       "Timestamp('2020-11-19 00:00:00')"
      ]
     },
     "execution_count": 17,
     "metadata": {},
     "output_type": "execute_result"
    }
   ],
   "source": [
    "covid_df['cdc_report_dt'].max()"
   ]
  },
  {
   "cell_type": "markdown",
   "id": "8e251570",
   "metadata": {},
   "source": [
    "### Tampilkan bulan dari kolom 'cdc_report_dt'"
   ]
  },
  {
   "cell_type": "code",
   "execution_count": 18,
   "id": "362a9a64",
   "metadata": {},
   "outputs": [
    {
     "data": {
      "text/plain": [
       "0          11\n",
       "1          11\n",
       "2          11\n",
       "3          11\n",
       "4          11\n",
       "           ..\n",
       "8405074    10\n",
       "8405075    10\n",
       "8405076     7\n",
       "8405077    11\n",
       "8405078    11\n",
       "Name: cdc_report_dt, Length: 8405079, dtype: int64"
      ]
     },
     "execution_count": 18,
     "metadata": {},
     "output_type": "execute_result"
    }
   ],
   "source": [
    "covid_df['cdc_report_dt'].dt.month"
   ]
  },
  {
   "cell_type": "markdown",
   "id": "0aba6156",
   "metadata": {},
   "source": [
    "### Tampilkan nama bulan dari kolom 'cdc_report_dt'"
   ]
  },
  {
   "cell_type": "code",
   "execution_count": 19,
   "id": "ee972e74",
   "metadata": {},
   "outputs": [
    {
     "data": {
      "text/plain": [
       "0          November\n",
       "1          November\n",
       "2          November\n",
       "3          November\n",
       "4          November\n",
       "             ...   \n",
       "8405074     October\n",
       "8405075     October\n",
       "8405076        July\n",
       "8405077    November\n",
       "8405078    November\n",
       "Name: cdc_report_dt, Length: 8405079, dtype: object"
      ]
     },
     "execution_count": 19,
     "metadata": {},
     "output_type": "execute_result"
    }
   ],
   "source": [
    "covid_df['cdc_report_dt'].dt.month_name()"
   ]
  },
  {
   "cell_type": "markdown",
   "id": "dced3122",
   "metadata": {},
   "source": [
    "### Create kolom baru 'month'"
   ]
  },
  {
   "cell_type": "code",
   "execution_count": 3,
   "id": "68c9856a",
   "metadata": {
    "scrolled": true
   },
   "outputs": [
    {
     "data": {
      "text/html": [
       "<div>\n",
       "<style scoped>\n",
       "    .dataframe tbody tr th:only-of-type {\n",
       "        vertical-align: middle;\n",
       "    }\n",
       "\n",
       "    .dataframe tbody tr th {\n",
       "        vertical-align: top;\n",
       "    }\n",
       "\n",
       "    .dataframe thead th {\n",
       "        text-align: right;\n",
       "    }\n",
       "</style>\n",
       "<table border=\"1\" class=\"dataframe\">\n",
       "  <thead>\n",
       "    <tr style=\"text-align: right;\">\n",
       "      <th></th>\n",
       "      <th>cdc_report_dt</th>\n",
       "      <th>pos_spec_dt</th>\n",
       "      <th>onset_dt</th>\n",
       "      <th>current_status</th>\n",
       "      <th>sex</th>\n",
       "      <th>age_group</th>\n",
       "      <th>Race and ethnicity (combined)</th>\n",
       "      <th>hosp_yn</th>\n",
       "      <th>icu_yn</th>\n",
       "      <th>death_yn</th>\n",
       "      <th>medcond_yn</th>\n",
       "      <th>month</th>\n",
       "    </tr>\n",
       "  </thead>\n",
       "  <tbody>\n",
       "    <tr>\n",
       "      <th>0</th>\n",
       "      <td>2020-11-10</td>\n",
       "      <td>2020/11/10</td>\n",
       "      <td>NaN</td>\n",
       "      <td>Laboratory-confirmed case</td>\n",
       "      <td>Male</td>\n",
       "      <td>10 - 19 Years</td>\n",
       "      <td>Black, Non-Hispanic</td>\n",
       "      <td>No</td>\n",
       "      <td>Unknown</td>\n",
       "      <td>No</td>\n",
       "      <td>No</td>\n",
       "      <td>11</td>\n",
       "    </tr>\n",
       "    <tr>\n",
       "      <th>1</th>\n",
       "      <td>2020-11-14</td>\n",
       "      <td>2020/11/10</td>\n",
       "      <td>2020/11/10</td>\n",
       "      <td>Laboratory-confirmed case</td>\n",
       "      <td>Male</td>\n",
       "      <td>10 - 19 Years</td>\n",
       "      <td>Black, Non-Hispanic</td>\n",
       "      <td>No</td>\n",
       "      <td>No</td>\n",
       "      <td>No</td>\n",
       "      <td>No</td>\n",
       "      <td>11</td>\n",
       "    </tr>\n",
       "    <tr>\n",
       "      <th>2</th>\n",
       "      <td>2020-11-19</td>\n",
       "      <td>2020/11/10</td>\n",
       "      <td>2020/11/09</td>\n",
       "      <td>Laboratory-confirmed case</td>\n",
       "      <td>Male</td>\n",
       "      <td>10 - 19 Years</td>\n",
       "      <td>Black, Non-Hispanic</td>\n",
       "      <td>No</td>\n",
       "      <td>No</td>\n",
       "      <td>No</td>\n",
       "      <td>No</td>\n",
       "      <td>11</td>\n",
       "    </tr>\n",
       "    <tr>\n",
       "      <th>3</th>\n",
       "      <td>2020-11-14</td>\n",
       "      <td>2020/11/10</td>\n",
       "      <td>NaN</td>\n",
       "      <td>Laboratory-confirmed case</td>\n",
       "      <td>Male</td>\n",
       "      <td>10 - 19 Years</td>\n",
       "      <td>Black, Non-Hispanic</td>\n",
       "      <td>Missing</td>\n",
       "      <td>Missing</td>\n",
       "      <td>No</td>\n",
       "      <td>Missing</td>\n",
       "      <td>11</td>\n",
       "    </tr>\n",
       "    <tr>\n",
       "      <th>4</th>\n",
       "      <td>2020-11-13</td>\n",
       "      <td>2020/11/10</td>\n",
       "      <td>2020/11/10</td>\n",
       "      <td>Laboratory-confirmed case</td>\n",
       "      <td>Male</td>\n",
       "      <td>10 - 19 Years</td>\n",
       "      <td>Black, Non-Hispanic</td>\n",
       "      <td>No</td>\n",
       "      <td>No</td>\n",
       "      <td>No</td>\n",
       "      <td>Yes</td>\n",
       "      <td>11</td>\n",
       "    </tr>\n",
       "  </tbody>\n",
       "</table>\n",
       "</div>"
      ],
      "text/plain": [
       "  cdc_report_dt pos_spec_dt    onset_dt             current_status   sex  \\\n",
       "0    2020-11-10  2020/11/10         NaN  Laboratory-confirmed case  Male   \n",
       "1    2020-11-14  2020/11/10  2020/11/10  Laboratory-confirmed case  Male   \n",
       "2    2020-11-19  2020/11/10  2020/11/09  Laboratory-confirmed case  Male   \n",
       "3    2020-11-14  2020/11/10         NaN  Laboratory-confirmed case  Male   \n",
       "4    2020-11-13  2020/11/10  2020/11/10  Laboratory-confirmed case  Male   \n",
       "\n",
       "       age_group Race and ethnicity (combined)  hosp_yn   icu_yn death_yn  \\\n",
       "0  10 - 19 Years           Black, Non-Hispanic       No  Unknown       No   \n",
       "1  10 - 19 Years           Black, Non-Hispanic       No       No       No   \n",
       "2  10 - 19 Years           Black, Non-Hispanic       No       No       No   \n",
       "3  10 - 19 Years           Black, Non-Hispanic  Missing  Missing       No   \n",
       "4  10 - 19 Years           Black, Non-Hispanic       No       No       No   \n",
       "\n",
       "  medcond_yn  month  \n",
       "0         No     11  \n",
       "1         No     11  \n",
       "2         No     11  \n",
       "3    Missing     11  \n",
       "4        Yes     11  "
      ]
     },
     "execution_count": 3,
     "metadata": {},
     "output_type": "execute_result"
    }
   ],
   "source": [
    "covid_df['month'] = covid_df['cdc_report_dt'].dt.month\n",
    "covid_df.head()"
   ]
  },
  {
   "cell_type": "markdown",
   "id": "be104445",
   "metadata": {},
   "source": [
    "### Create kolom baru 'month_name'"
   ]
  },
  {
   "cell_type": "code",
   "execution_count": 4,
   "id": "c8599d67",
   "metadata": {
    "scrolled": false
   },
   "outputs": [
    {
     "data": {
      "text/html": [
       "<div>\n",
       "<style scoped>\n",
       "    .dataframe tbody tr th:only-of-type {\n",
       "        vertical-align: middle;\n",
       "    }\n",
       "\n",
       "    .dataframe tbody tr th {\n",
       "        vertical-align: top;\n",
       "    }\n",
       "\n",
       "    .dataframe thead th {\n",
       "        text-align: right;\n",
       "    }\n",
       "</style>\n",
       "<table border=\"1\" class=\"dataframe\">\n",
       "  <thead>\n",
       "    <tr style=\"text-align: right;\">\n",
       "      <th></th>\n",
       "      <th>cdc_report_dt</th>\n",
       "      <th>pos_spec_dt</th>\n",
       "      <th>onset_dt</th>\n",
       "      <th>current_status</th>\n",
       "      <th>sex</th>\n",
       "      <th>age_group</th>\n",
       "      <th>Race and ethnicity (combined)</th>\n",
       "      <th>hosp_yn</th>\n",
       "      <th>icu_yn</th>\n",
       "      <th>death_yn</th>\n",
       "      <th>medcond_yn</th>\n",
       "      <th>month_name</th>\n",
       "    </tr>\n",
       "  </thead>\n",
       "  <tbody>\n",
       "    <tr>\n",
       "      <th>0</th>\n",
       "      <td>2020-11-10</td>\n",
       "      <td>2020/11/10</td>\n",
       "      <td>NaN</td>\n",
       "      <td>Laboratory-confirmed case</td>\n",
       "      <td>Male</td>\n",
       "      <td>10 - 19 Years</td>\n",
       "      <td>Black, Non-Hispanic</td>\n",
       "      <td>No</td>\n",
       "      <td>Unknown</td>\n",
       "      <td>No</td>\n",
       "      <td>No</td>\n",
       "      <td>November</td>\n",
       "    </tr>\n",
       "    <tr>\n",
       "      <th>1</th>\n",
       "      <td>2020-11-14</td>\n",
       "      <td>2020/11/10</td>\n",
       "      <td>2020/11/10</td>\n",
       "      <td>Laboratory-confirmed case</td>\n",
       "      <td>Male</td>\n",
       "      <td>10 - 19 Years</td>\n",
       "      <td>Black, Non-Hispanic</td>\n",
       "      <td>No</td>\n",
       "      <td>No</td>\n",
       "      <td>No</td>\n",
       "      <td>No</td>\n",
       "      <td>November</td>\n",
       "    </tr>\n",
       "    <tr>\n",
       "      <th>2</th>\n",
       "      <td>2020-11-19</td>\n",
       "      <td>2020/11/10</td>\n",
       "      <td>2020/11/09</td>\n",
       "      <td>Laboratory-confirmed case</td>\n",
       "      <td>Male</td>\n",
       "      <td>10 - 19 Years</td>\n",
       "      <td>Black, Non-Hispanic</td>\n",
       "      <td>No</td>\n",
       "      <td>No</td>\n",
       "      <td>No</td>\n",
       "      <td>No</td>\n",
       "      <td>November</td>\n",
       "    </tr>\n",
       "    <tr>\n",
       "      <th>3</th>\n",
       "      <td>2020-11-14</td>\n",
       "      <td>2020/11/10</td>\n",
       "      <td>NaN</td>\n",
       "      <td>Laboratory-confirmed case</td>\n",
       "      <td>Male</td>\n",
       "      <td>10 - 19 Years</td>\n",
       "      <td>Black, Non-Hispanic</td>\n",
       "      <td>Missing</td>\n",
       "      <td>Missing</td>\n",
       "      <td>No</td>\n",
       "      <td>Missing</td>\n",
       "      <td>November</td>\n",
       "    </tr>\n",
       "    <tr>\n",
       "      <th>4</th>\n",
       "      <td>2020-11-13</td>\n",
       "      <td>2020/11/10</td>\n",
       "      <td>2020/11/10</td>\n",
       "      <td>Laboratory-confirmed case</td>\n",
       "      <td>Male</td>\n",
       "      <td>10 - 19 Years</td>\n",
       "      <td>Black, Non-Hispanic</td>\n",
       "      <td>No</td>\n",
       "      <td>No</td>\n",
       "      <td>No</td>\n",
       "      <td>Yes</td>\n",
       "      <td>November</td>\n",
       "    </tr>\n",
       "  </tbody>\n",
       "</table>\n",
       "</div>"
      ],
      "text/plain": [
       "  cdc_report_dt pos_spec_dt    onset_dt             current_status   sex  \\\n",
       "0    2020-11-10  2020/11/10         NaN  Laboratory-confirmed case  Male   \n",
       "1    2020-11-14  2020/11/10  2020/11/10  Laboratory-confirmed case  Male   \n",
       "2    2020-11-19  2020/11/10  2020/11/09  Laboratory-confirmed case  Male   \n",
       "3    2020-11-14  2020/11/10         NaN  Laboratory-confirmed case  Male   \n",
       "4    2020-11-13  2020/11/10  2020/11/10  Laboratory-confirmed case  Male   \n",
       "\n",
       "       age_group Race and ethnicity (combined)  hosp_yn   icu_yn death_yn  \\\n",
       "0  10 - 19 Years           Black, Non-Hispanic       No  Unknown       No   \n",
       "1  10 - 19 Years           Black, Non-Hispanic       No       No       No   \n",
       "2  10 - 19 Years           Black, Non-Hispanic       No       No       No   \n",
       "3  10 - 19 Years           Black, Non-Hispanic  Missing  Missing       No   \n",
       "4  10 - 19 Years           Black, Non-Hispanic       No       No       No   \n",
       "\n",
       "  medcond_yn month_name  \n",
       "0         No   November  \n",
       "1         No   November  \n",
       "2         No   November  \n",
       "3    Missing   November  \n",
       "4        Yes   November  "
      ]
     },
     "execution_count": 4,
     "metadata": {},
     "output_type": "execute_result"
    }
   ],
   "source": [
    "covid_df['month_name'] = covid_df['cdc_report_dt'].dt.month_name()\n",
    "covid_df.head()"
   ]
  },
  {
   "cell_type": "code",
   "execution_count": 5,
   "id": "8a399dbb",
   "metadata": {},
   "outputs": [
    {
     "data": {
      "text/plain": [
       "(8405079, 13)"
      ]
     },
     "execution_count": 5,
     "metadata": {},
     "output_type": "execute_result"
    }
   ],
   "source": [
    "covid_df.shape"
   ]
  },
  {
   "cell_type": "markdown",
   "id": "4046673c",
   "metadata": {},
   "source": [
    "### Summary data status dirawat (hosp_yn)"
   ]
  },
  {
   "cell_type": "code",
   "execution_count": 23,
   "id": "76dde23b",
   "metadata": {},
   "outputs": [
    {
     "data": {
      "text/plain": [
       "count     8405079\n",
       "unique          4\n",
       "top            No\n",
       "freq      3502556\n",
       "Name: hosp_yn, dtype: object"
      ]
     },
     "execution_count": 23,
     "metadata": {},
     "output_type": "execute_result"
    }
   ],
   "source": [
    "covid_df['hosp_yn'].describe()"
   ]
  },
  {
   "cell_type": "code",
   "execution_count": 24,
   "id": "b4cb113b",
   "metadata": {},
   "outputs": [
    {
     "data": {
      "text/plain": [
       "array(['No', 'Missing', 'Unknown', 'Yes'], dtype=object)"
      ]
     },
     "execution_count": 24,
     "metadata": {},
     "output_type": "execute_result"
    }
   ],
   "source": [
    "covid_df['hosp_yn'].unique()"
   ]
  },
  {
   "cell_type": "markdown",
   "id": "3a623427",
   "metadata": {},
   "source": [
    "### Summary data kelompok usia (age_group)"
   ]
  },
  {
   "cell_type": "code",
   "execution_count": 25,
   "id": "51f4d991",
   "metadata": {},
   "outputs": [
    {
     "data": {
      "text/plain": [
       "count           8404990\n",
       "unique               10\n",
       "top       20 - 29 Years\n",
       "freq            1635264\n",
       "Name: age_group, dtype: object"
      ]
     },
     "execution_count": 25,
     "metadata": {},
     "output_type": "execute_result"
    }
   ],
   "source": [
    "covid_df['age_group'].describe()"
   ]
  },
  {
   "cell_type": "code",
   "execution_count": 26,
   "id": "80d30c2a",
   "metadata": {},
   "outputs": [
    {
     "data": {
      "text/plain": [
       "array(['10 - 19 Years', '20 - 29 Years', '30 - 39 Years', '40 - 49 Years',\n",
       "       '50 - 59 Years', '0 - 9 Years', '60 - 69 Years', '80+ Years',\n",
       "       '70 - 79 Years', nan, 'Unknown'], dtype=object)"
      ]
     },
     "execution_count": 26,
     "metadata": {},
     "output_type": "execute_result"
    }
   ],
   "source": [
    "covid_df['age_group'].unique()"
   ]
  },
  {
   "cell_type": "markdown",
   "id": "a2c86394",
   "metadata": {},
   "source": [
    "### Lihat entries dengan gender Male dan Female saja, pada kolom status, sex, dan age_group"
   ]
  },
  {
   "cell_type": "code",
   "execution_count": 6,
   "id": "ea807d84",
   "metadata": {},
   "outputs": [
    {
     "data": {
      "text/html": [
       "<div>\n",
       "<style scoped>\n",
       "    .dataframe tbody tr th:only-of-type {\n",
       "        vertical-align: middle;\n",
       "    }\n",
       "\n",
       "    .dataframe tbody tr th {\n",
       "        vertical-align: top;\n",
       "    }\n",
       "\n",
       "    .dataframe thead th {\n",
       "        text-align: right;\n",
       "    }\n",
       "</style>\n",
       "<table border=\"1\" class=\"dataframe\">\n",
       "  <thead>\n",
       "    <tr style=\"text-align: right;\">\n",
       "      <th></th>\n",
       "      <th>current_status</th>\n",
       "      <th>sex</th>\n",
       "      <th>age_group</th>\n",
       "    </tr>\n",
       "  </thead>\n",
       "  <tbody>\n",
       "    <tr>\n",
       "      <th>0</th>\n",
       "      <td>Laboratory-confirmed case</td>\n",
       "      <td>Male</td>\n",
       "      <td>10 - 19 Years</td>\n",
       "    </tr>\n",
       "    <tr>\n",
       "      <th>1</th>\n",
       "      <td>Laboratory-confirmed case</td>\n",
       "      <td>Male</td>\n",
       "      <td>10 - 19 Years</td>\n",
       "    </tr>\n",
       "    <tr>\n",
       "      <th>2</th>\n",
       "      <td>Laboratory-confirmed case</td>\n",
       "      <td>Male</td>\n",
       "      <td>10 - 19 Years</td>\n",
       "    </tr>\n",
       "    <tr>\n",
       "      <th>3</th>\n",
       "      <td>Laboratory-confirmed case</td>\n",
       "      <td>Male</td>\n",
       "      <td>10 - 19 Years</td>\n",
       "    </tr>\n",
       "    <tr>\n",
       "      <th>4</th>\n",
       "      <td>Laboratory-confirmed case</td>\n",
       "      <td>Male</td>\n",
       "      <td>10 - 19 Years</td>\n",
       "    </tr>\n",
       "    <tr>\n",
       "      <th>...</th>\n",
       "      <td>...</td>\n",
       "      <td>...</td>\n",
       "      <td>...</td>\n",
       "    </tr>\n",
       "    <tr>\n",
       "      <th>8404677</th>\n",
       "      <td>Laboratory-confirmed case</td>\n",
       "      <td>Female</td>\n",
       "      <td>30 - 39 Years</td>\n",
       "    </tr>\n",
       "    <tr>\n",
       "      <th>8404678</th>\n",
       "      <td>Laboratory-confirmed case</td>\n",
       "      <td>Female</td>\n",
       "      <td>30 - 39 Years</td>\n",
       "    </tr>\n",
       "    <tr>\n",
       "      <th>8404679</th>\n",
       "      <td>Laboratory-confirmed case</td>\n",
       "      <td>Female</td>\n",
       "      <td>30 - 39 Years</td>\n",
       "    </tr>\n",
       "    <tr>\n",
       "      <th>8404680</th>\n",
       "      <td>Laboratory-confirmed case</td>\n",
       "      <td>Female</td>\n",
       "      <td>30 - 39 Years</td>\n",
       "    </tr>\n",
       "    <tr>\n",
       "      <th>8404681</th>\n",
       "      <td>Laboratory-confirmed case</td>\n",
       "      <td>Female</td>\n",
       "      <td>30 - 39 Years</td>\n",
       "    </tr>\n",
       "  </tbody>\n",
       "</table>\n",
       "<p>8311489 rows × 3 columns</p>\n",
       "</div>"
      ],
      "text/plain": [
       "                    current_status     sex      age_group\n",
       "0        Laboratory-confirmed case    Male  10 - 19 Years\n",
       "1        Laboratory-confirmed case    Male  10 - 19 Years\n",
       "2        Laboratory-confirmed case    Male  10 - 19 Years\n",
       "3        Laboratory-confirmed case    Male  10 - 19 Years\n",
       "4        Laboratory-confirmed case    Male  10 - 19 Years\n",
       "...                            ...     ...            ...\n",
       "8404677  Laboratory-confirmed case  Female  30 - 39 Years\n",
       "8404678  Laboratory-confirmed case  Female  30 - 39 Years\n",
       "8404679  Laboratory-confirmed case  Female  30 - 39 Years\n",
       "8404680  Laboratory-confirmed case  Female  30 - 39 Years\n",
       "8404681  Laboratory-confirmed case  Female  30 - 39 Years\n",
       "\n",
       "[8311489 rows x 3 columns]"
      ]
     },
     "execution_count": 6,
     "metadata": {},
     "output_type": "execute_result"
    }
   ],
   "source": [
    "covid_df1 = covid_df[['current_status', 'sex', 'age_group']]\n",
    "covid_df1.loc[(covid_df1['sex'].isin(['Male', 'Female']))]"
   ]
  },
  {
   "cell_type": "markdown",
   "id": "6afc6cc9",
   "metadata": {},
   "source": [
    "### Hitung jumlah status terkonfirmasi dan probable (dalam persen)"
   ]
  },
  {
   "cell_type": "code",
   "execution_count": 7,
   "id": "90bc0bf2",
   "metadata": {},
   "outputs": [
    {
     "data": {
      "text/plain": [
       "Laboratory-confirmed case    94.111168\n",
       "Probable Case                 5.888832\n",
       "Name: current_status, dtype: float64"
      ]
     },
     "execution_count": 7,
     "metadata": {},
     "output_type": "execute_result"
    }
   ],
   "source": [
    "covid_df['current_status'].value_counts() * 100 / len(covid_df)"
   ]
  },
  {
   "cell_type": "markdown",
   "id": "6a0af525",
   "metadata": {},
   "source": [
    "### Hitung jumlah kasus yang dilaporkan per bulan"
   ]
  },
  {
   "cell_type": "code",
   "execution_count": 8,
   "id": "fe2307d2",
   "metadata": {},
   "outputs": [
    {
     "data": {
      "text/plain": [
       "November     1720797\n",
       "October      1460022\n",
       "July         1079639\n",
       "August        991097\n",
       "September     989500\n",
       "June          880134\n",
       "May           582196\n",
       "April         538948\n",
       "March         161477\n",
       "February        1037\n",
       "January          232\n",
       "Name: month_name, dtype: int64"
      ]
     },
     "execution_count": 8,
     "metadata": {},
     "output_type": "execute_result"
    }
   ],
   "source": [
    "covid_df['month_name'].value_counts()"
   ]
  },
  {
   "cell_type": "markdown",
   "id": "80d84f71",
   "metadata": {},
   "source": [
    "### Hitung jumlah tiap jenis gender"
   ]
  },
  {
   "cell_type": "code",
   "execution_count": 9,
   "id": "7ed1f782",
   "metadata": {},
   "outputs": [
    {
     "data": {
      "text/plain": [
       "Female     4340898\n",
       "Male       3970591\n",
       "Unknown      73845\n",
       "Missing      19520\n",
       "Other          207\n",
       "Name: sex, dtype: int64"
      ]
     },
     "execution_count": 9,
     "metadata": {},
     "output_type": "execute_result"
    }
   ],
   "source": [
    "covid_df['sex'].value_counts()"
   ]
  },
  {
   "cell_type": "markdown",
   "id": "9eb984a4",
   "metadata": {},
   "source": [
    "### Hitung jumlah tiap jenis kelompok usia"
   ]
  },
  {
   "cell_type": "code",
   "execution_count": 10,
   "id": "25fd8887",
   "metadata": {},
   "outputs": [
    {
     "data": {
      "text/plain": [
       "20 - 29 Years    1635264\n",
       "30 - 39 Years    1372623\n",
       "40 - 49 Years    1267350\n",
       "50 - 59 Years    1227493\n",
       "60 - 69 Years     863260\n",
       "10 - 19 Years     841450\n",
       "70 - 79 Years     483689\n",
       "80+ Years         382869\n",
       "0 - 9 Years       299040\n",
       "Unknown            31952\n",
       "Name: age_group, dtype: int64"
      ]
     },
     "execution_count": 10,
     "metadata": {},
     "output_type": "execute_result"
    }
   ],
   "source": [
    "covid_df['age_group'].value_counts()"
   ]
  },
  {
   "cell_type": "markdown",
   "id": "702e274d",
   "metadata": {},
   "source": [
    "### Hitung jumlah tiap jenis etnis"
   ]
  },
  {
   "cell_type": "code",
   "execution_count": 11,
   "id": "ef342f93",
   "metadata": {},
   "outputs": [
    {
     "data": {
      "text/plain": [
       "Unknown                                                 2781176\n",
       "White, Non-Hispanic                                     2599410\n",
       "Hispanic/Latino                                         1195739\n",
       "Black, Non-Hispanic                                      736584\n",
       "Missing                                                  601519\n",
       "Multiple/Other, Non-Hispanic                             270509\n",
       "Asian, Non-Hispanic                                      143080\n",
       "American Indian/Alaska Native, Non-Hispanic               59842\n",
       "Native Hawaiian/Other Pacific Islander, Non-Hispanic      17213\n",
       "Name: Race and ethnicity (combined), dtype: int64"
      ]
     },
     "execution_count": 11,
     "metadata": {},
     "output_type": "execute_result"
    }
   ],
   "source": [
    "covid_df['Race and ethnicity (combined)'].value_counts()"
   ]
  },
  {
   "cell_type": "markdown",
   "id": "16f74c3c",
   "metadata": {},
   "source": [
    "### Hitung status individu meninggal"
   ]
  },
  {
   "cell_type": "code",
   "execution_count": 12,
   "id": "16effb22",
   "metadata": {},
   "outputs": [
    {
     "data": {
      "text/plain": [
       "No         3690813\n",
       "Missing    3486923\n",
       "Unknown    1043766\n",
       "Yes         183577\n",
       "Name: death_yn, dtype: int64"
      ]
     },
     "execution_count": 12,
     "metadata": {},
     "output_type": "execute_result"
    }
   ],
   "source": [
    "covid_df['death_yn'].value_counts()"
   ]
  },
  {
   "cell_type": "markdown",
   "id": "8226271d",
   "metadata": {},
   "source": [
    "### Import modules visualisasi"
   ]
  },
  {
   "cell_type": "code",
   "execution_count": 13,
   "id": "5cc0b7b0",
   "metadata": {},
   "outputs": [],
   "source": [
    "import matplotlib.pyplot as plt\n",
    "import seaborn as sns\n",
    "%matplotlib inline"
   ]
  },
  {
   "cell_type": "markdown",
   "id": "abe75679",
   "metadata": {},
   "source": [
    "### Visualisasi bar chart jumlah kasus yang dilaporkan per bulan"
   ]
  },
  {
   "cell_type": "code",
   "execution_count": 14,
   "id": "0ffac0d7",
   "metadata": {},
   "outputs": [
    {
     "data": {
      "image/png": "[encoded data removed]",
      "text/plain": [
       "<Figure size 640x480 with 1 Axes>"
      ]
     },
     "metadata": {},
     "output_type": "display_data"
    }
   ],
   "source": [
    "covid_df['month_name'].value_counts().plot.bar()\n",
    "plt.tight_layout()\n",
    "plt.show()"
   ]
  },
  {
   "cell_type": "markdown",
   "id": "c39ab348",
   "metadata": {},
   "source": [
    "### Visualisasi pie chart persentase jumlah gender"
   ]
  },
  {
   "cell_type": "code",
   "execution_count": 15,
   "id": "67ae939b",
   "metadata": {},
   "outputs": [
    {
     "data": {
      "image/png": "[encoded data removed]",
      "text/plain": [
       "<Figure size 640x480 with 1 Axes>"
      ]
     },
     "metadata": {},
     "output_type": "display_data"
    }
   ],
   "source": [
    "covid_df['sex'].value_counts().plot.pie(autopct='%1.1f%%', labels=None, legend=True)\n",
    "plt.tight_layout()"
   ]
  },
  {
   "cell_type": "markdown",
   "id": "52314af5",
   "metadata": {},
   "source": [
    "### Visualisasi bar chart jumlah kelompok usia"
   ]
  },
  {
   "cell_type": "code",
   "execution_count": 16,
   "id": "7b0abc8c",
   "metadata": {},
   "outputs": [
    {
     "data": {
      "image/png": "[encoded data removed]",
      "text/plain": [
       "<Figure size 640x480 with 1 Axes>"
      ]
     },
     "metadata": {},
     "output_type": "display_data"
    }
   ],
   "source": [
    "covid_df['age_group'].value_counts().plot.bar()\n",
    "plt.tight_layout()\n",
    "plt.show()"
   ]
  },
  {
   "cell_type": "markdown",
   "id": "7d89ddc5",
   "metadata": {},
   "source": [
    "### Visualisasi bar chart jenis etnis"
   ]
  },
  {
   "cell_type": "code",
   "execution_count": 17,
   "id": "d8cdb5b7",
   "metadata": {},
   "outputs": [
    {
     "data": {
      "image/png": "[encoded data removed]",
      "text/plain": [
       "<Figure size 640x480 with 1 Axes>"
      ]
     },
     "metadata": {},
     "output_type": "display_data"
    }
   ],
   "source": [
    "covid_df['Race and ethnicity (combined)'].value_counts().plot.bar()\n",
    "plt.tight_layout()\n",
    "plt.show()"
   ]
  },
  {
   "cell_type": "markdown",
   "id": "b807f5be",
   "metadata": {},
   "source": [
    "### Visualisasi pie chart status individu meninggal"
   ]
  },
  {
   "cell_type": "code",
   "execution_count": 18,
   "id": "93c8c7af",
   "metadata": {},
   "outputs": [
    {
     "data": {
      "image/png": "[encoded data removed]",
      "text/plain": [
       "<Figure size 640x480 with 1 Axes>"
      ]
     },
     "metadata": {},
     "output_type": "display_data"
    }
   ],
   "source": [
    "covid_df['death_yn'].value_counts().plot.pie(autopct='%1.1f%%', labels=None, legend=True)\n",
    "plt.tight_layout()"
   ]
  },
  {
   "cell_type": "markdown",
   "id": "3dcb99ef",
   "metadata": {},
   "source": [
    "### Bar chart jumlah status individu meninggal per bulan"
   ]
  },
  {
   "cell_type": "code",
   "execution_count": 19,
   "id": "398c83cc",
   "metadata": {},
   "outputs": [
    {
     "data": {
      "image/png": "[encoded data removed]",
      "text/plain": [
       "<Figure size 640x480 with 1 Axes>"
      ]
     },
     "metadata": {},
     "output_type": "display_data"
    }
   ],
   "source": [
    "sns.countplot(data=covid_df, x='month', hue='death_yn')\n",
    "plt.tight_layout()"
   ]
  },
  {
   "cell_type": "markdown",
   "id": "3d206684",
   "metadata": {},
   "source": [
    "### Bar chart jumlah status meninggal berdasarkan gender"
   ]
  },
  {
   "cell_type": "code",
   "execution_count": 20,
   "id": "34021175",
   "metadata": {},
   "outputs": [
    {
     "data": {
      "image/png": "[encoded data removed]",
      "text/plain": [
       "<Figure size 640x480 with 1 Axes>"
      ]
     },
     "metadata": {},
     "output_type": "display_data"
    }
   ],
   "source": [
    "sns.countplot(data=covid_df, x='sex', hue='death_yn')\n",
    "plt.tight_layout()"
   ]
  },
  {
   "cell_type": "markdown",
   "id": "2d08af26",
   "metadata": {},
   "source": [
    "### Bar chart jumlah status meninggal berdasarkan gender Male dan Female saja"
   ]
  },
  {
   "cell_type": "code",
   "execution_count": 21,
   "id": "85e3a82a",
   "metadata": {},
   "outputs": [
    {
     "data": {
      "image/png": "[encoded data removed]",
      "text/plain": [
       "<Figure size 640x480 with 1 Axes>"
      ]
     },
     "metadata": {},
     "output_type": "display_data"
    }
   ],
   "source": [
    "covid_df_sex = covid_df.loc[(covid_df['sex'].isin(['Male', 'Female']))]\n",
    "sns.countplot(data=covid_df_sex, x='sex', hue = 'death_yn')\n",
    "plt.tight_layout()"
   ]
  },
  {
   "cell_type": "markdown",
   "id": "1da9f191",
   "metadata": {},
   "source": [
    "### Bar chart jumlah status meninggal berdasarkan kelompok usia"
   ]
  },
  {
   "cell_type": "code",
   "execution_count": 22,
   "id": "5f08c82a",
   "metadata": {},
   "outputs": [
    {
     "data": {
      "image/png": "[encoded data removed]",
      "text/plain": [
       "<Figure size 640x480 with 1 Axes>"
      ]
     },
     "metadata": {},
     "output_type": "display_data"
    }
   ],
   "source": [
    "sns.countplot(data=covid_df, x='age_group', hue='death_yn')\n",
    "plt.tight_layout()"
   ]
  },
  {
   "cell_type": "markdown",
   "id": "cd4128c7",
   "metadata": {},
   "source": [
    "### Pie chart status pasien dirawat di rumah sakit (abaikan Unknown dan missing entries)"
   ]
  },
  {
   "cell_type": "code",
   "execution_count": 23,
   "id": "90b84556",
   "metadata": {},
   "outputs": [
    {
     "data": {
      "image/png": "[encoded data removed]",
      "text/plain": [
       "<Figure size 640x480 with 1 Axes>"
      ]
     },
     "metadata": {},
     "output_type": "display_data"
    }
   ],
   "source": [
    "covid_df_hospyn = covid_df.loc[(covid_df['hosp_yn'].isin(['Yes', 'No']))]\n",
    "covid_df_hospyn['hosp_yn'].value_counts().plot.pie(autopct='%1.1f%%', labels=None, legend=True)\n",
    "plt.tight_layout()"
   ]
  }
 ],
 "metadata": {
  "kernelspec": {
   "display_name": "Python 3 (ipykernel)",
   "language": "python",
   "name": "python3"
  },
  "language_info": {
   "codemirror_mode": {
    "name": "ipython",
    "version": 3
   },
   "file_extension": ".py",
   "mimetype": "text/x-python",
   "name": "python",
   "nbconvert_exporter": "python",
   "pygments_lexer": "ipython3",
   "version": "3.9.13"
  }
 },
 "nbformat": 4,
 "nbformat_minor": 5
}
